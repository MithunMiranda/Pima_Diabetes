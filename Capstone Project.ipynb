{
 "cells": [
  {
   "cell_type": "code",
   "execution_count": 1,
   "id": "febf28b5",
   "metadata": {},
   "outputs": [],
   "source": [
    "# importing the required libraries\n",
    "import numpy as np\n",
    "import pandas as pd\n",
    "import seaborn as sns\n",
    "import matplotlib.pyplot as plt"
   ]
  },
  {
   "cell_type": "code",
   "execution_count": 2,
   "id": "1b7f83f5",
   "metadata": {},
   "outputs": [
    {
     "name": "stdout",
     "output_type": "stream",
     "text": [
      "Defaulting to user installation because normal site-packages is not writeable\n",
      "Requirement already satisfied: imblearn in c:\\users\\mithu\\appdata\\roaming\\python\\python39\\site-packages (0.0)\n",
      "Requirement already satisfied: imbalanced-learn in c:\\users\\mithu\\appdata\\roaming\\python\\python39\\site-packages (from imblearn) (0.9.1)\n",
      "Requirement already satisfied: threadpoolctl>=2.0.0 in c:\\programdata\\anaconda3\\lib\\site-packages (from imbalanced-learn->imblearn) (2.2.0)\n",
      "Requirement already satisfied: scipy>=1.3.2 in c:\\programdata\\anaconda3\\lib\\site-packages (from imbalanced-learn->imblearn) (1.7.3)\n",
      "Requirement already satisfied: scikit-learn>=1.1.0 in c:\\users\\mithu\\appdata\\roaming\\python\\python39\\site-packages (from imbalanced-learn->imblearn) (1.1.3)\n",
      "Requirement already satisfied: numpy>=1.17.3 in c:\\programdata\\anaconda3\\lib\\site-packages (from imbalanced-learn->imblearn) (1.21.5)\n",
      "Requirement already satisfied: joblib>=1.0.0 in c:\\programdata\\anaconda3\\lib\\site-packages (from imbalanced-learn->imblearn) (1.1.0)\n"
     ]
    }
   ],
   "source": [
    "# installing the imb-learn library for smote\n",
    "!pip install imblearn"
   ]
  },
  {
   "cell_type": "code",
   "execution_count": 3,
   "id": "8c50b885",
   "metadata": {},
   "outputs": [],
   "source": [
    "#importing the PIMA Diabetes dataset\n",
    "dataset=pd.read_csv (\"C:\\\\Users\\\\mithu\\\\Desktop\\\\Simplilearn\\\\capstone\\\\project2\\\\Project 2\\\\health care diabetes.csv\")"
   ]
  },
  {
   "cell_type": "code",
   "execution_count": 4,
   "id": "ab6d2f22",
   "metadata": {},
   "outputs": [
    {
     "data": {
      "text/html": [
       "<div>\n",
       "<style scoped>\n",
       "    .dataframe tbody tr th:only-of-type {\n",
       "        vertical-align: middle;\n",
       "    }\n",
       "\n",
       "    .dataframe tbody tr th {\n",
       "        vertical-align: top;\n",
       "    }\n",
       "\n",
       "    .dataframe thead th {\n",
       "        text-align: right;\n",
       "    }\n",
       "</style>\n",
       "<table border=\"1\" class=\"dataframe\">\n",
       "  <thead>\n",
       "    <tr style=\"text-align: right;\">\n",
       "      <th></th>\n",
       "      <th>Pregnancies</th>\n",
       "      <th>Glucose</th>\n",
       "      <th>BloodPressure</th>\n",
       "      <th>SkinThickness</th>\n",
       "      <th>Insulin</th>\n",
       "      <th>BMI</th>\n",
       "      <th>DiabetesPedigreeFunction</th>\n",
       "      <th>Age</th>\n",
       "      <th>Outcome</th>\n",
       "    </tr>\n",
       "  </thead>\n",
       "  <tbody>\n",
       "    <tr>\n",
       "      <th>0</th>\n",
       "      <td>6</td>\n",
       "      <td>148</td>\n",
       "      <td>72</td>\n",
       "      <td>35</td>\n",
       "      <td>0</td>\n",
       "      <td>33.6</td>\n",
       "      <td>0.627</td>\n",
       "      <td>50</td>\n",
       "      <td>1</td>\n",
       "    </tr>\n",
       "    <tr>\n",
       "      <th>1</th>\n",
       "      <td>1</td>\n",
       "      <td>85</td>\n",
       "      <td>66</td>\n",
       "      <td>29</td>\n",
       "      <td>0</td>\n",
       "      <td>26.6</td>\n",
       "      <td>0.351</td>\n",
       "      <td>31</td>\n",
       "      <td>0</td>\n",
       "    </tr>\n",
       "    <tr>\n",
       "      <th>2</th>\n",
       "      <td>8</td>\n",
       "      <td>183</td>\n",
       "      <td>64</td>\n",
       "      <td>0</td>\n",
       "      <td>0</td>\n",
       "      <td>23.3</td>\n",
       "      <td>0.672</td>\n",
       "      <td>32</td>\n",
       "      <td>1</td>\n",
       "    </tr>\n",
       "    <tr>\n",
       "      <th>3</th>\n",
       "      <td>1</td>\n",
       "      <td>89</td>\n",
       "      <td>66</td>\n",
       "      <td>23</td>\n",
       "      <td>94</td>\n",
       "      <td>28.1</td>\n",
       "      <td>0.167</td>\n",
       "      <td>21</td>\n",
       "      <td>0</td>\n",
       "    </tr>\n",
       "    <tr>\n",
       "      <th>4</th>\n",
       "      <td>0</td>\n",
       "      <td>137</td>\n",
       "      <td>40</td>\n",
       "      <td>35</td>\n",
       "      <td>168</td>\n",
       "      <td>43.1</td>\n",
       "      <td>2.288</td>\n",
       "      <td>33</td>\n",
       "      <td>1</td>\n",
       "    </tr>\n",
       "    <tr>\n",
       "      <th>5</th>\n",
       "      <td>5</td>\n",
       "      <td>116</td>\n",
       "      <td>74</td>\n",
       "      <td>0</td>\n",
       "      <td>0</td>\n",
       "      <td>25.6</td>\n",
       "      <td>0.201</td>\n",
       "      <td>30</td>\n",
       "      <td>0</td>\n",
       "    </tr>\n",
       "    <tr>\n",
       "      <th>6</th>\n",
       "      <td>3</td>\n",
       "      <td>78</td>\n",
       "      <td>50</td>\n",
       "      <td>32</td>\n",
       "      <td>88</td>\n",
       "      <td>31.0</td>\n",
       "      <td>0.248</td>\n",
       "      <td>26</td>\n",
       "      <td>1</td>\n",
       "    </tr>\n",
       "    <tr>\n",
       "      <th>7</th>\n",
       "      <td>10</td>\n",
       "      <td>115</td>\n",
       "      <td>0</td>\n",
       "      <td>0</td>\n",
       "      <td>0</td>\n",
       "      <td>35.3</td>\n",
       "      <td>0.134</td>\n",
       "      <td>29</td>\n",
       "      <td>0</td>\n",
       "    </tr>\n",
       "    <tr>\n",
       "      <th>8</th>\n",
       "      <td>2</td>\n",
       "      <td>197</td>\n",
       "      <td>70</td>\n",
       "      <td>45</td>\n",
       "      <td>543</td>\n",
       "      <td>30.5</td>\n",
       "      <td>0.158</td>\n",
       "      <td>53</td>\n",
       "      <td>1</td>\n",
       "    </tr>\n",
       "    <tr>\n",
       "      <th>9</th>\n",
       "      <td>8</td>\n",
       "      <td>125</td>\n",
       "      <td>96</td>\n",
       "      <td>0</td>\n",
       "      <td>0</td>\n",
       "      <td>0.0</td>\n",
       "      <td>0.232</td>\n",
       "      <td>54</td>\n",
       "      <td>1</td>\n",
       "    </tr>\n",
       "  </tbody>\n",
       "</table>\n",
       "</div>"
      ],
      "text/plain": [
       "   Pregnancies  Glucose  BloodPressure  SkinThickness  Insulin   BMI  \\\n",
       "0            6      148             72             35        0  33.6   \n",
       "1            1       85             66             29        0  26.6   \n",
       "2            8      183             64              0        0  23.3   \n",
       "3            1       89             66             23       94  28.1   \n",
       "4            0      137             40             35      168  43.1   \n",
       "5            5      116             74              0        0  25.6   \n",
       "6            3       78             50             32       88  31.0   \n",
       "7           10      115              0              0        0  35.3   \n",
       "8            2      197             70             45      543  30.5   \n",
       "9            8      125             96              0        0   0.0   \n",
       "\n",
       "   DiabetesPedigreeFunction  Age  Outcome  \n",
       "0                     0.627   50        1  \n",
       "1                     0.351   31        0  \n",
       "2                     0.672   32        1  \n",
       "3                     0.167   21        0  \n",
       "4                     2.288   33        1  \n",
       "5                     0.201   30        0  \n",
       "6                     0.248   26        1  \n",
       "7                     0.134   29        0  \n",
       "8                     0.158   53        1  \n",
       "9                     0.232   54        1  "
      ]
     },
     "execution_count": 4,
     "metadata": {},
     "output_type": "execute_result"
    }
   ],
   "source": [
    "#To see first few coloumns of the dataset.\n",
    "dataset.head(10)"
   ]
  },
  {
   "cell_type": "code",
   "execution_count": 5,
   "id": "cabe8203",
   "metadata": {},
   "outputs": [
    {
     "data": {
      "text/plain": [
       "Pregnancies                 0\n",
       "Glucose                     0\n",
       "BloodPressure               0\n",
       "SkinThickness               0\n",
       "Insulin                     0\n",
       "BMI                         0\n",
       "DiabetesPedigreeFunction    0\n",
       "Age                         0\n",
       "Outcome                     0\n",
       "dtype: int64"
      ]
     },
     "execution_count": 5,
     "metadata": {},
     "output_type": "execute_result"
    }
   ],
   "source": [
    "#checking the null values in the dataset.\n",
    "dataset.isnull().sum()"
   ]
  },
  {
   "cell_type": "markdown",
   "id": "907bda8f",
   "metadata": {},
   "source": [
    "#### Inference: The dataset seems to have no null values"
   ]
  },
  {
   "cell_type": "code",
   "execution_count": 6,
   "id": "ec9dbe1c",
   "metadata": {},
   "outputs": [
    {
     "data": {
      "text/plain": [
       "(768, 9)"
      ]
     },
     "execution_count": 6,
     "metadata": {},
     "output_type": "execute_result"
    }
   ],
   "source": [
    "#checking the size of the dataset.\n",
    "dataset.shape"
   ]
  },
  {
   "cell_type": "markdown",
   "id": "ee02b034",
   "metadata": {},
   "source": [
    "#### Inference: Dataset has 768 rows and 9 columns"
   ]
  },
  {
   "cell_type": "code",
   "execution_count": 7,
   "id": "128e04f2",
   "metadata": {},
   "outputs": [
    {
     "data": {
      "text/html": [
       "<div>\n",
       "<style scoped>\n",
       "    .dataframe tbody tr th:only-of-type {\n",
       "        vertical-align: middle;\n",
       "    }\n",
       "\n",
       "    .dataframe tbody tr th {\n",
       "        vertical-align: top;\n",
       "    }\n",
       "\n",
       "    .dataframe thead th {\n",
       "        text-align: right;\n",
       "    }\n",
       "</style>\n",
       "<table border=\"1\" class=\"dataframe\">\n",
       "  <thead>\n",
       "    <tr style=\"text-align: right;\">\n",
       "      <th></th>\n",
       "      <th>Pregnancies</th>\n",
       "      <th>Glucose</th>\n",
       "      <th>BloodPressure</th>\n",
       "      <th>SkinThickness</th>\n",
       "      <th>Insulin</th>\n",
       "      <th>BMI</th>\n",
       "      <th>DiabetesPedigreeFunction</th>\n",
       "      <th>Age</th>\n",
       "      <th>Outcome</th>\n",
       "    </tr>\n",
       "  </thead>\n",
       "  <tbody>\n",
       "    <tr>\n",
       "      <th>count</th>\n",
       "      <td>768.000000</td>\n",
       "      <td>768.000000</td>\n",
       "      <td>768.000000</td>\n",
       "      <td>768.000000</td>\n",
       "      <td>768.000000</td>\n",
       "      <td>768.000000</td>\n",
       "      <td>768.000000</td>\n",
       "      <td>768.000000</td>\n",
       "      <td>768.000000</td>\n",
       "    </tr>\n",
       "    <tr>\n",
       "      <th>mean</th>\n",
       "      <td>3.845052</td>\n",
       "      <td>120.894531</td>\n",
       "      <td>69.105469</td>\n",
       "      <td>20.536458</td>\n",
       "      <td>79.799479</td>\n",
       "      <td>31.992578</td>\n",
       "      <td>0.471876</td>\n",
       "      <td>33.240885</td>\n",
       "      <td>0.348958</td>\n",
       "    </tr>\n",
       "    <tr>\n",
       "      <th>std</th>\n",
       "      <td>3.369578</td>\n",
       "      <td>31.972618</td>\n",
       "      <td>19.355807</td>\n",
       "      <td>15.952218</td>\n",
       "      <td>115.244002</td>\n",
       "      <td>7.884160</td>\n",
       "      <td>0.331329</td>\n",
       "      <td>11.760232</td>\n",
       "      <td>0.476951</td>\n",
       "    </tr>\n",
       "    <tr>\n",
       "      <th>min</th>\n",
       "      <td>0.000000</td>\n",
       "      <td>0.000000</td>\n",
       "      <td>0.000000</td>\n",
       "      <td>0.000000</td>\n",
       "      <td>0.000000</td>\n",
       "      <td>0.000000</td>\n",
       "      <td>0.078000</td>\n",
       "      <td>21.000000</td>\n",
       "      <td>0.000000</td>\n",
       "    </tr>\n",
       "    <tr>\n",
       "      <th>25%</th>\n",
       "      <td>1.000000</td>\n",
       "      <td>99.000000</td>\n",
       "      <td>62.000000</td>\n",
       "      <td>0.000000</td>\n",
       "      <td>0.000000</td>\n",
       "      <td>27.300000</td>\n",
       "      <td>0.243750</td>\n",
       "      <td>24.000000</td>\n",
       "      <td>0.000000</td>\n",
       "    </tr>\n",
       "    <tr>\n",
       "      <th>50%</th>\n",
       "      <td>3.000000</td>\n",
       "      <td>117.000000</td>\n",
       "      <td>72.000000</td>\n",
       "      <td>23.000000</td>\n",
       "      <td>30.500000</td>\n",
       "      <td>32.000000</td>\n",
       "      <td>0.372500</td>\n",
       "      <td>29.000000</td>\n",
       "      <td>0.000000</td>\n",
       "    </tr>\n",
       "    <tr>\n",
       "      <th>75%</th>\n",
       "      <td>6.000000</td>\n",
       "      <td>140.250000</td>\n",
       "      <td>80.000000</td>\n",
       "      <td>32.000000</td>\n",
       "      <td>127.250000</td>\n",
       "      <td>36.600000</td>\n",
       "      <td>0.626250</td>\n",
       "      <td>41.000000</td>\n",
       "      <td>1.000000</td>\n",
       "    </tr>\n",
       "    <tr>\n",
       "      <th>max</th>\n",
       "      <td>17.000000</td>\n",
       "      <td>199.000000</td>\n",
       "      <td>122.000000</td>\n",
       "      <td>99.000000</td>\n",
       "      <td>846.000000</td>\n",
       "      <td>67.100000</td>\n",
       "      <td>2.420000</td>\n",
       "      <td>81.000000</td>\n",
       "      <td>1.000000</td>\n",
       "    </tr>\n",
       "  </tbody>\n",
       "</table>\n",
       "</div>"
      ],
      "text/plain": [
       "       Pregnancies     Glucose  BloodPressure  SkinThickness     Insulin  \\\n",
       "count   768.000000  768.000000     768.000000     768.000000  768.000000   \n",
       "mean      3.845052  120.894531      69.105469      20.536458   79.799479   \n",
       "std       3.369578   31.972618      19.355807      15.952218  115.244002   \n",
       "min       0.000000    0.000000       0.000000       0.000000    0.000000   \n",
       "25%       1.000000   99.000000      62.000000       0.000000    0.000000   \n",
       "50%       3.000000  117.000000      72.000000      23.000000   30.500000   \n",
       "75%       6.000000  140.250000      80.000000      32.000000  127.250000   \n",
       "max      17.000000  199.000000     122.000000      99.000000  846.000000   \n",
       "\n",
       "              BMI  DiabetesPedigreeFunction         Age     Outcome  \n",
       "count  768.000000                768.000000  768.000000  768.000000  \n",
       "mean    31.992578                  0.471876   33.240885    0.348958  \n",
       "std      7.884160                  0.331329   11.760232    0.476951  \n",
       "min      0.000000                  0.078000   21.000000    0.000000  \n",
       "25%     27.300000                  0.243750   24.000000    0.000000  \n",
       "50%     32.000000                  0.372500   29.000000    0.000000  \n",
       "75%     36.600000                  0.626250   41.000000    1.000000  \n",
       "max     67.100000                  2.420000   81.000000    1.000000  "
      ]
     },
     "execution_count": 7,
     "metadata": {},
     "output_type": "execute_result"
    }
   ],
   "source": [
    "#checking the statsitical description of the dataset.\n",
    "dataset.describe()"
   ]
  },
  {
   "cell_type": "markdown",
   "id": "12c8b9a4",
   "metadata": {},
   "source": [
    "#### Inference: Dataset variables like Glucose, BloodPressure, Insulin and BMI show the minimum values as 0. But from the outset of the medical purpose of these values.They cannot be 0 for a person.To me it seems like these values have been not recorded. So logically these are missing values"
   ]
  },
  {
   "cell_type": "code",
   "execution_count": 8,
   "id": "bc3da653",
   "metadata": {},
   "outputs": [
    {
     "data": {
      "text/plain": [
       "<AxesSubplot:ylabel='Frequency'>"
      ]
     },
     "execution_count": 8,
     "metadata": {},
     "output_type": "execute_result"
    },
    {
     "data": {
      "image/png": "[encoded data removed]",
      "text/plain": [
       "<Figure size 432x288 with 1 Axes>"
      ]
     },
     "metadata": {
      "needs_background": "light"
     },
     "output_type": "display_data"
    }
   ],
   "source": [
    "#There is a need to address the issue of values with value zero and replace it.\n",
    "#The missing values have to be replaced based on the distrubution.\n",
    "#We will address that by first taking the data distrubution into consideration.\n",
    "#it will have to be replaced by mean, median, modal value based on logical need.\n",
    "\n",
    "# Plotting histogram for Glucose to see data distribution\n",
    "dataset['Glucose'].plot.hist()"
   ]
  },
  {
   "cell_type": "markdown",
   "id": "c15bdcdd",
   "metadata": {},
   "source": [
    "#### Inference: Data distribution seems almost like guassian distribution, the missing values can be imputed by 'mean value'."
   ]
  },
  {
   "cell_type": "code",
   "execution_count": 9,
   "id": "903ac524",
   "metadata": {},
   "outputs": [
    {
     "data": {
      "text/plain": [
       "<AxesSubplot:ylabel='Frequency'>"
      ]
     },
     "execution_count": 9,
     "metadata": {},
     "output_type": "execute_result"
    },
    {
     "data": {
      "image/png": "[encoded data removed]",
      "text/plain": [
       "<Figure size 432x288 with 1 Axes>"
      ]
     },
     "metadata": {
      "needs_background": "light"
     },
     "output_type": "display_data"
    }
   ],
   "source": [
    "# Plotting histogram for Insulin to see data distribution\n",
    "dataset['Insulin'].plot.hist()"
   ]
  },
  {
   "cell_type": "markdown",
   "id": "1cd7b3c3",
   "metadata": {},
   "source": [
    "#### Inference: The data distrubution is skewed to the right, Impute the missing values by 'median value'"
   ]
  },
  {
   "cell_type": "code",
   "execution_count": 10,
   "id": "eb5f9e0a",
   "metadata": {
    "scrolled": true
   },
   "outputs": [
    {
     "data": {
      "text/plain": [
       "<AxesSubplot:ylabel='Frequency'>"
      ]
     },
     "execution_count": 10,
     "metadata": {},
     "output_type": "execute_result"
    },
    {
     "data": {
      "image/png": "[encoded data removed]",
      "text/plain": [
       "<Figure size 432x288 with 1 Axes>"
      ]
     },
     "metadata": {
      "needs_background": "light"
     },
     "output_type": "display_data"
    }
   ],
   "source": [
    "# Plotting histogram for BloodPressure to see data distribution\n",
    "dataset['BloodPressure'].plot.hist()"
   ]
  },
  {
   "cell_type": "markdown",
   "id": "2a580a82",
   "metadata": {},
   "source": [
    "#### Inference: Data distribution seems almost like guassian distribution, imputation can be done using 'mean value'."
   ]
  },
  {
   "cell_type": "code",
   "execution_count": 11,
   "id": "d0790542",
   "metadata": {},
   "outputs": [
    {
     "data": {
      "text/plain": [
       "<AxesSubplot:ylabel='Frequency'>"
      ]
     },
     "execution_count": 11,
     "metadata": {},
     "output_type": "execute_result"
    },
    {
     "data": {
      "image/png": "[encoded data removed]",
      "text/plain": [
       "<Figure size 432x288 with 1 Axes>"
      ]
     },
     "metadata": {
      "needs_background": "light"
     },
     "output_type": "display_data"
    }
   ],
   "source": [
    "# Plotting histogram for BMI to see data distribution\n",
    "dataset['BMI'].plot.hist()"
   ]
  },
  {
   "cell_type": "markdown",
   "id": "9583ea76",
   "metadata": {},
   "source": [
    "#### Inference: Data distribution seems almost like guassian distribution, imputation could be done using 'mean value'."
   ]
  },
  {
   "cell_type": "markdown",
   "id": "aee56076",
   "metadata": {},
   "source": [
    "#### Imputing '0' value with logically appropriate values for the Glucose, Insulin, BloodPressure, BMI, based on the distribution"
   ]
  },
  {
   "cell_type": "code",
   "execution_count": 12,
   "id": "c8dc546a",
   "metadata": {},
   "outputs": [],
   "source": [
    "dataset['Glucose']=dataset['Glucose'].replace(0,dataset['Glucose'].mean())"
   ]
  },
  {
   "cell_type": "code",
   "execution_count": 13,
   "id": "3f10642c",
   "metadata": {},
   "outputs": [],
   "source": [
    "dataset['Insulin']=dataset['Insulin'].replace(0,dataset['Insulin'].median())"
   ]
  },
  {
   "cell_type": "code",
   "execution_count": 14,
   "id": "d4b85f0a",
   "metadata": {},
   "outputs": [],
   "source": [
    "dataset['BloodPressure']=dataset['BloodPressure'].replace(0,dataset['BloodPressure'].mean())"
   ]
  },
  {
   "cell_type": "code",
   "execution_count": 15,
   "id": "2d3b681a",
   "metadata": {},
   "outputs": [],
   "source": [
    "dataset['BMI']=dataset['BMI'].replace(0,dataset['BMI'].mean())"
   ]
  },
  {
   "cell_type": "code",
   "execution_count": 16,
   "id": "e643a95b",
   "metadata": {},
   "outputs": [
    {
     "data": {
      "text/plain": [
       "99.0     17\n",
       "100.0    17\n",
       "111.0    14\n",
       "129.0    14\n",
       "125.0    14\n",
       "         ..\n",
       "191.0     1\n",
       "177.0     1\n",
       "44.0      1\n",
       "62.0      1\n",
       "190.0     1\n",
       "Name: Glucose, Length: 136, dtype: int64"
      ]
     },
     "execution_count": 16,
     "metadata": {},
     "output_type": "execute_result"
    }
   ],
   "source": [
    "dataset['Glucose'].value_counts()\n",
    "\n"
   ]
  },
  {
   "cell_type": "code",
   "execution_count": 17,
   "id": "66b356f1",
   "metadata": {},
   "outputs": [
    {
     "data": {
      "text/plain": [
       "30.5     374\n",
       "105.0     11\n",
       "130.0      9\n",
       "140.0      9\n",
       "120.0      8\n",
       "        ... \n",
       "73.0       1\n",
       "171.0      1\n",
       "255.0      1\n",
       "52.0       1\n",
       "112.0      1\n",
       "Name: Insulin, Length: 186, dtype: int64"
      ]
     },
     "execution_count": 17,
     "metadata": {},
     "output_type": "execute_result"
    }
   ],
   "source": [
    "dataset['Insulin'].value_counts()"
   ]
  },
  {
   "cell_type": "code",
   "execution_count": 18,
   "id": "9f997385",
   "metadata": {},
   "outputs": [
    {
     "data": {
      "text/plain": [
       "70.000000     57\n",
       "74.000000     52\n",
       "78.000000     45\n",
       "68.000000     45\n",
       "72.000000     44\n",
       "64.000000     43\n",
       "80.000000     40\n",
       "76.000000     39\n",
       "60.000000     37\n",
       "69.105469     35\n",
       "62.000000     34\n",
       "66.000000     30\n",
       "82.000000     30\n",
       "88.000000     25\n",
       "84.000000     23\n",
       "90.000000     22\n",
       "86.000000     21\n",
       "58.000000     21\n",
       "50.000000     13\n",
       "56.000000     12\n",
       "52.000000     11\n",
       "54.000000     11\n",
       "75.000000      8\n",
       "92.000000      8\n",
       "65.000000      7\n",
       "85.000000      6\n",
       "94.000000      6\n",
       "48.000000      5\n",
       "96.000000      4\n",
       "44.000000      4\n",
       "100.000000     3\n",
       "106.000000     3\n",
       "98.000000      3\n",
       "110.000000     3\n",
       "55.000000      2\n",
       "108.000000     2\n",
       "104.000000     2\n",
       "46.000000      2\n",
       "30.000000      2\n",
       "122.000000     1\n",
       "95.000000      1\n",
       "102.000000     1\n",
       "61.000000      1\n",
       "24.000000      1\n",
       "38.000000      1\n",
       "40.000000      1\n",
       "114.000000     1\n",
       "Name: BloodPressure, dtype: int64"
      ]
     },
     "execution_count": 18,
     "metadata": {},
     "output_type": "execute_result"
    }
   ],
   "source": [
    "dataset['BloodPressure'].value_counts()"
   ]
  },
  {
   "cell_type": "code",
   "execution_count": 19,
   "id": "d163840f",
   "metadata": {},
   "outputs": [
    {
     "data": {
      "text/plain": [
       "32.000000    13\n",
       "31.600000    12\n",
       "31.200000    12\n",
       "31.992578    11\n",
       "32.400000    10\n",
       "             ..\n",
       "36.700000     1\n",
       "41.800000     1\n",
       "42.600000     1\n",
       "42.800000     1\n",
       "46.300000     1\n",
       "Name: BMI, Length: 248, dtype: int64"
      ]
     },
     "execution_count": 19,
     "metadata": {},
     "output_type": "execute_result"
    }
   ],
   "source": [
    "dataset['BMI'].value_counts()"
   ]
  },
  {
   "cell_type": "markdown",
   "id": "8fd7f212",
   "metadata": {},
   "source": [
    "## (Data Exploration)"
   ]
  },
  {
   "cell_type": "code",
   "execution_count": 20,
   "id": "4978a76f",
   "metadata": {
    "scrolled": true
   },
   "outputs": [
    {
     "data": {
      "text/plain": [
       "<AxesSubplot:xlabel='Outcome', ylabel='count'>"
      ]
     },
     "execution_count": 20,
     "metadata": {},
     "output_type": "execute_result"
    },
    {
     "data": {
      "image/png": "[encoded data removed]",
      "text/plain": [
       "<Figure size 432x288 with 1 Axes>"
      ]
     },
     "metadata": {
      "needs_background": "light"
     },
     "output_type": "display_data"
    }
   ],
   "source": [
    "#creating a Countplot to see the various variables.\n",
    "sns.countplot(x='Outcome',data=dataset)"
   ]
  },
  {
   "cell_type": "code",
   "execution_count": 21,
   "id": "7787fb1d",
   "metadata": {},
   "outputs": [],
   "source": [
    "#creating two seperate datasets based on outcomes 1 and 0\n",
    "\n",
    "dataset_out1=dataset[dataset[\"Outcome\"]==1]\n",
    "\n",
    "dataset_out2=dataset[dataset[\"Outcome\"]==0]"
   ]
  },
  {
   "cell_type": "code",
   "execution_count": 22,
   "id": "b3df94e7",
   "metadata": {},
   "outputs": [
    {
     "data": {
      "text/html": [
       "<div>\n",
       "<style scoped>\n",
       "    .dataframe tbody tr th:only-of-type {\n",
       "        vertical-align: middle;\n",
       "    }\n",
       "\n",
       "    .dataframe tbody tr th {\n",
       "        vertical-align: top;\n",
       "    }\n",
       "\n",
       "    .dataframe thead th {\n",
       "        text-align: right;\n",
       "    }\n",
       "</style>\n",
       "<table border=\"1\" class=\"dataframe\">\n",
       "  <thead>\n",
       "    <tr style=\"text-align: right;\">\n",
       "      <th></th>\n",
       "      <th>Pregnancies</th>\n",
       "      <th>Glucose</th>\n",
       "      <th>BloodPressure</th>\n",
       "      <th>SkinThickness</th>\n",
       "      <th>Insulin</th>\n",
       "      <th>BMI</th>\n",
       "      <th>DiabetesPedigreeFunction</th>\n",
       "      <th>Age</th>\n",
       "      <th>Outcome</th>\n",
       "    </tr>\n",
       "  </thead>\n",
       "  <tbody>\n",
       "    <tr>\n",
       "      <th>0</th>\n",
       "      <td>6</td>\n",
       "      <td>148.0</td>\n",
       "      <td>72.0</td>\n",
       "      <td>35</td>\n",
       "      <td>30.5</td>\n",
       "      <td>33.6</td>\n",
       "      <td>0.627</td>\n",
       "      <td>50</td>\n",
       "      <td>1</td>\n",
       "    </tr>\n",
       "    <tr>\n",
       "      <th>2</th>\n",
       "      <td>8</td>\n",
       "      <td>183.0</td>\n",
       "      <td>64.0</td>\n",
       "      <td>0</td>\n",
       "      <td>30.5</td>\n",
       "      <td>23.3</td>\n",
       "      <td>0.672</td>\n",
       "      <td>32</td>\n",
       "      <td>1</td>\n",
       "    </tr>\n",
       "    <tr>\n",
       "      <th>4</th>\n",
       "      <td>0</td>\n",
       "      <td>137.0</td>\n",
       "      <td>40.0</td>\n",
       "      <td>35</td>\n",
       "      <td>168.0</td>\n",
       "      <td>43.1</td>\n",
       "      <td>2.288</td>\n",
       "      <td>33</td>\n",
       "      <td>1</td>\n",
       "    </tr>\n",
       "    <tr>\n",
       "      <th>6</th>\n",
       "      <td>3</td>\n",
       "      <td>78.0</td>\n",
       "      <td>50.0</td>\n",
       "      <td>32</td>\n",
       "      <td>88.0</td>\n",
       "      <td>31.0</td>\n",
       "      <td>0.248</td>\n",
       "      <td>26</td>\n",
       "      <td>1</td>\n",
       "    </tr>\n",
       "    <tr>\n",
       "      <th>8</th>\n",
       "      <td>2</td>\n",
       "      <td>197.0</td>\n",
       "      <td>70.0</td>\n",
       "      <td>45</td>\n",
       "      <td>543.0</td>\n",
       "      <td>30.5</td>\n",
       "      <td>0.158</td>\n",
       "      <td>53</td>\n",
       "      <td>1</td>\n",
       "    </tr>\n",
       "    <tr>\n",
       "      <th>...</th>\n",
       "      <td>...</td>\n",
       "      <td>...</td>\n",
       "      <td>...</td>\n",
       "      <td>...</td>\n",
       "      <td>...</td>\n",
       "      <td>...</td>\n",
       "      <td>...</td>\n",
       "      <td>...</td>\n",
       "      <td>...</td>\n",
       "    </tr>\n",
       "    <tr>\n",
       "      <th>755</th>\n",
       "      <td>1</td>\n",
       "      <td>128.0</td>\n",
       "      <td>88.0</td>\n",
       "      <td>39</td>\n",
       "      <td>110.0</td>\n",
       "      <td>36.5</td>\n",
       "      <td>1.057</td>\n",
       "      <td>37</td>\n",
       "      <td>1</td>\n",
       "    </tr>\n",
       "    <tr>\n",
       "      <th>757</th>\n",
       "      <td>0</td>\n",
       "      <td>123.0</td>\n",
       "      <td>72.0</td>\n",
       "      <td>0</td>\n",
       "      <td>30.5</td>\n",
       "      <td>36.3</td>\n",
       "      <td>0.258</td>\n",
       "      <td>52</td>\n",
       "      <td>1</td>\n",
       "    </tr>\n",
       "    <tr>\n",
       "      <th>759</th>\n",
       "      <td>6</td>\n",
       "      <td>190.0</td>\n",
       "      <td>92.0</td>\n",
       "      <td>0</td>\n",
       "      <td>30.5</td>\n",
       "      <td>35.5</td>\n",
       "      <td>0.278</td>\n",
       "      <td>66</td>\n",
       "      <td>1</td>\n",
       "    </tr>\n",
       "    <tr>\n",
       "      <th>761</th>\n",
       "      <td>9</td>\n",
       "      <td>170.0</td>\n",
       "      <td>74.0</td>\n",
       "      <td>31</td>\n",
       "      <td>30.5</td>\n",
       "      <td>44.0</td>\n",
       "      <td>0.403</td>\n",
       "      <td>43</td>\n",
       "      <td>1</td>\n",
       "    </tr>\n",
       "    <tr>\n",
       "      <th>766</th>\n",
       "      <td>1</td>\n",
       "      <td>126.0</td>\n",
       "      <td>60.0</td>\n",
       "      <td>0</td>\n",
       "      <td>30.5</td>\n",
       "      <td>30.1</td>\n",
       "      <td>0.349</td>\n",
       "      <td>47</td>\n",
       "      <td>1</td>\n",
       "    </tr>\n",
       "  </tbody>\n",
       "</table>\n",
       "<p>268 rows × 9 columns</p>\n",
       "</div>"
      ],
      "text/plain": [
       "     Pregnancies  Glucose  BloodPressure  SkinThickness  Insulin   BMI  \\\n",
       "0              6    148.0           72.0             35     30.5  33.6   \n",
       "2              8    183.0           64.0              0     30.5  23.3   \n",
       "4              0    137.0           40.0             35    168.0  43.1   \n",
       "6              3     78.0           50.0             32     88.0  31.0   \n",
       "8              2    197.0           70.0             45    543.0  30.5   \n",
       "..           ...      ...            ...            ...      ...   ...   \n",
       "755            1    128.0           88.0             39    110.0  36.5   \n",
       "757            0    123.0           72.0              0     30.5  36.3   \n",
       "759            6    190.0           92.0              0     30.5  35.5   \n",
       "761            9    170.0           74.0             31     30.5  44.0   \n",
       "766            1    126.0           60.0              0     30.5  30.1   \n",
       "\n",
       "     DiabetesPedigreeFunction  Age  Outcome  \n",
       "0                       0.627   50        1  \n",
       "2                       0.672   32        1  \n",
       "4                       2.288   33        1  \n",
       "6                       0.248   26        1  \n",
       "8                       0.158   53        1  \n",
       "..                        ...  ...      ...  \n",
       "755                     1.057   37        1  \n",
       "757                     0.258   52        1  \n",
       "759                     0.278   66        1  \n",
       "761                     0.403   43        1  \n",
       "766                     0.349   47        1  \n",
       "\n",
       "[268 rows x 9 columns]"
      ]
     },
     "execution_count": 22,
     "metadata": {},
     "output_type": "execute_result"
    }
   ],
   "source": [
    "dataset_out1"
   ]
  },
  {
   "cell_type": "code",
   "execution_count": 23,
   "id": "caa4a98f",
   "metadata": {
    "scrolled": true
   },
   "outputs": [
    {
     "data": {
      "text/html": [
       "<div>\n",
       "<style scoped>\n",
       "    .dataframe tbody tr th:only-of-type {\n",
       "        vertical-align: middle;\n",
       "    }\n",
       "\n",
       "    .dataframe tbody tr th {\n",
       "        vertical-align: top;\n",
       "    }\n",
       "\n",
       "    .dataframe thead th {\n",
       "        text-align: right;\n",
       "    }\n",
       "</style>\n",
       "<table border=\"1\" class=\"dataframe\">\n",
       "  <thead>\n",
       "    <tr style=\"text-align: right;\">\n",
       "      <th></th>\n",
       "      <th>Pregnancies</th>\n",
       "      <th>Glucose</th>\n",
       "      <th>BloodPressure</th>\n",
       "      <th>SkinThickness</th>\n",
       "      <th>Insulin</th>\n",
       "      <th>BMI</th>\n",
       "      <th>DiabetesPedigreeFunction</th>\n",
       "      <th>Age</th>\n",
       "      <th>Outcome</th>\n",
       "    </tr>\n",
       "  </thead>\n",
       "  <tbody>\n",
       "    <tr>\n",
       "      <th>1</th>\n",
       "      <td>1</td>\n",
       "      <td>85.0</td>\n",
       "      <td>66.000000</td>\n",
       "      <td>29</td>\n",
       "      <td>30.5</td>\n",
       "      <td>26.6</td>\n",
       "      <td>0.351</td>\n",
       "      <td>31</td>\n",
       "      <td>0</td>\n",
       "    </tr>\n",
       "    <tr>\n",
       "      <th>3</th>\n",
       "      <td>1</td>\n",
       "      <td>89.0</td>\n",
       "      <td>66.000000</td>\n",
       "      <td>23</td>\n",
       "      <td>94.0</td>\n",
       "      <td>28.1</td>\n",
       "      <td>0.167</td>\n",
       "      <td>21</td>\n",
       "      <td>0</td>\n",
       "    </tr>\n",
       "    <tr>\n",
       "      <th>5</th>\n",
       "      <td>5</td>\n",
       "      <td>116.0</td>\n",
       "      <td>74.000000</td>\n",
       "      <td>0</td>\n",
       "      <td>30.5</td>\n",
       "      <td>25.6</td>\n",
       "      <td>0.201</td>\n",
       "      <td>30</td>\n",
       "      <td>0</td>\n",
       "    </tr>\n",
       "    <tr>\n",
       "      <th>7</th>\n",
       "      <td>10</td>\n",
       "      <td>115.0</td>\n",
       "      <td>69.105469</td>\n",
       "      <td>0</td>\n",
       "      <td>30.5</td>\n",
       "      <td>35.3</td>\n",
       "      <td>0.134</td>\n",
       "      <td>29</td>\n",
       "      <td>0</td>\n",
       "    </tr>\n",
       "    <tr>\n",
       "      <th>10</th>\n",
       "      <td>4</td>\n",
       "      <td>110.0</td>\n",
       "      <td>92.000000</td>\n",
       "      <td>0</td>\n",
       "      <td>30.5</td>\n",
       "      <td>37.6</td>\n",
       "      <td>0.191</td>\n",
       "      <td>30</td>\n",
       "      <td>0</td>\n",
       "    </tr>\n",
       "    <tr>\n",
       "      <th>...</th>\n",
       "      <td>...</td>\n",
       "      <td>...</td>\n",
       "      <td>...</td>\n",
       "      <td>...</td>\n",
       "      <td>...</td>\n",
       "      <td>...</td>\n",
       "      <td>...</td>\n",
       "      <td>...</td>\n",
       "      <td>...</td>\n",
       "    </tr>\n",
       "    <tr>\n",
       "      <th>762</th>\n",
       "      <td>9</td>\n",
       "      <td>89.0</td>\n",
       "      <td>62.000000</td>\n",
       "      <td>0</td>\n",
       "      <td>30.5</td>\n",
       "      <td>22.5</td>\n",
       "      <td>0.142</td>\n",
       "      <td>33</td>\n",
       "      <td>0</td>\n",
       "    </tr>\n",
       "    <tr>\n",
       "      <th>763</th>\n",
       "      <td>10</td>\n",
       "      <td>101.0</td>\n",
       "      <td>76.000000</td>\n",
       "      <td>48</td>\n",
       "      <td>180.0</td>\n",
       "      <td>32.9</td>\n",
       "      <td>0.171</td>\n",
       "      <td>63</td>\n",
       "      <td>0</td>\n",
       "    </tr>\n",
       "    <tr>\n",
       "      <th>764</th>\n",
       "      <td>2</td>\n",
       "      <td>122.0</td>\n",
       "      <td>70.000000</td>\n",
       "      <td>27</td>\n",
       "      <td>30.5</td>\n",
       "      <td>36.8</td>\n",
       "      <td>0.340</td>\n",
       "      <td>27</td>\n",
       "      <td>0</td>\n",
       "    </tr>\n",
       "    <tr>\n",
       "      <th>765</th>\n",
       "      <td>5</td>\n",
       "      <td>121.0</td>\n",
       "      <td>72.000000</td>\n",
       "      <td>23</td>\n",
       "      <td>112.0</td>\n",
       "      <td>26.2</td>\n",
       "      <td>0.245</td>\n",
       "      <td>30</td>\n",
       "      <td>0</td>\n",
       "    </tr>\n",
       "    <tr>\n",
       "      <th>767</th>\n",
       "      <td>1</td>\n",
       "      <td>93.0</td>\n",
       "      <td>70.000000</td>\n",
       "      <td>31</td>\n",
       "      <td>30.5</td>\n",
       "      <td>30.4</td>\n",
       "      <td>0.315</td>\n",
       "      <td>23</td>\n",
       "      <td>0</td>\n",
       "    </tr>\n",
       "  </tbody>\n",
       "</table>\n",
       "<p>500 rows × 9 columns</p>\n",
       "</div>"
      ],
      "text/plain": [
       "     Pregnancies  Glucose  BloodPressure  SkinThickness  Insulin   BMI  \\\n",
       "1              1     85.0      66.000000             29     30.5  26.6   \n",
       "3              1     89.0      66.000000             23     94.0  28.1   \n",
       "5              5    116.0      74.000000              0     30.5  25.6   \n",
       "7             10    115.0      69.105469              0     30.5  35.3   \n",
       "10             4    110.0      92.000000              0     30.5  37.6   \n",
       "..           ...      ...            ...            ...      ...   ...   \n",
       "762            9     89.0      62.000000              0     30.5  22.5   \n",
       "763           10    101.0      76.000000             48    180.0  32.9   \n",
       "764            2    122.0      70.000000             27     30.5  36.8   \n",
       "765            5    121.0      72.000000             23    112.0  26.2   \n",
       "767            1     93.0      70.000000             31     30.5  30.4   \n",
       "\n",
       "     DiabetesPedigreeFunction  Age  Outcome  \n",
       "1                       0.351   31        0  \n",
       "3                       0.167   21        0  \n",
       "5                       0.201   30        0  \n",
       "7                       0.134   29        0  \n",
       "10                      0.191   30        0  \n",
       "..                        ...  ...      ...  \n",
       "762                     0.142   33        0  \n",
       "763                     0.171   63        0  \n",
       "764                     0.340   27        0  \n",
       "765                     0.245   30        0  \n",
       "767                     0.315   23        0  \n",
       "\n",
       "[500 rows x 9 columns]"
      ]
     },
     "execution_count": 23,
     "metadata": {},
     "output_type": "execute_result"
    }
   ],
   "source": [
    "dataset_out2"
   ]
  },
  {
   "cell_type": "code",
   "execution_count": 24,
   "id": "e54045c1",
   "metadata": {},
   "outputs": [
    {
     "data": {
      "text/plain": [
       "(268, 9)"
      ]
     },
     "execution_count": 24,
     "metadata": {},
     "output_type": "execute_result"
    }
   ],
   "source": [
    "dataset_out1.shape"
   ]
  },
  {
   "cell_type": "code",
   "execution_count": 25,
   "id": "debfa207",
   "metadata": {},
   "outputs": [
    {
     "data": {
      "text/plain": [
       "(500, 9)"
      ]
     },
     "execution_count": 25,
     "metadata": {},
     "output_type": "execute_result"
    }
   ],
   "source": [
    "dataset_out2.shape"
   ]
  },
  {
   "cell_type": "code",
   "execution_count": 26,
   "id": "a8850349",
   "metadata": {},
   "outputs": [
    {
     "data": {
      "text/plain": [
       "0.3489583333333333"
      ]
     },
     "execution_count": 26,
     "metadata": {},
     "output_type": "execute_result"
    }
   ],
   "source": [
    "268/768"
   ]
  },
  {
   "cell_type": "markdown",
   "id": "bcc9f4fc",
   "metadata": {},
   "source": [
    "#### Findings: There seems to be a 1.86:1 ratio (Class Imbalance) between the outcome \"0\" and outcome \"1\", 34.8% of the data has a positive outcome."
   ]
  },
  {
   "cell_type": "markdown",
   "id": "3199091c",
   "metadata": {},
   "source": [
    "#### Comment:This is a mildly imbalanced dataset. The data can be balanced by using a few techniques like data augumentation, Smote, Resampling"
   ]
  },
  {
   "cell_type": "markdown",
   "id": "dfc56d82",
   "metadata": {},
   "source": [
    "#### SMOTE is used to synthesize data where the features are continuous and it is a classification problem statement."
   ]
  },
  {
   "cell_type": "markdown",
   "id": "622f1f07",
   "metadata": {},
   "source": [
    "## Course of action:Using the SMOTE technique to resample the data"
   ]
  },
  {
   "cell_type": "code",
   "execution_count": 27,
   "id": "305276d7",
   "metadata": {},
   "outputs": [],
   "source": [
    "# creating dependant and independant features\n",
    "columns=dataset.columns.tolist()\n",
    "# Making a list of columns apart from 'Outcome'\n",
    "columns=[c for c in columns if c not in [\"Outcome\"]]\n",
    "# store the variable we are predicting\n",
    "target=\"Outcome\"\n",
    "X=dataset[columns]\n",
    "Y=dataset[target]"
   ]
  },
  {
   "cell_type": "code",
   "execution_count": 28,
   "id": "b7a1182e",
   "metadata": {},
   "outputs": [],
   "source": [
    "#importing SMOTE for handling imbalanced data.\n",
    "from imblearn.over_sampling import SMOTE\n",
    "sm = SMOTE(random_state = 2)\n",
    "columns_resampled, target_resampled = sm.fit_resample(X,Y)"
   ]
  },
  {
   "cell_type": "code",
   "execution_count": 29,
   "id": "0e3e399b",
   "metadata": {},
   "outputs": [
    {
     "data": {
      "text/plain": [
       "(1000, 8)"
      ]
     },
     "execution_count": 29,
     "metadata": {},
     "output_type": "execute_result"
    }
   ],
   "source": [
    "columns_resampled.shape"
   ]
  },
  {
   "cell_type": "code",
   "execution_count": 30,
   "id": "4b1ee5d3",
   "metadata": {},
   "outputs": [
    {
     "data": {
      "text/plain": [
       "(1000,)"
      ]
     },
     "execution_count": 30,
     "metadata": {},
     "output_type": "execute_result"
    }
   ],
   "source": [
    "target_resampled.shape"
   ]
  },
  {
   "cell_type": "code",
   "execution_count": 31,
   "id": "0351194f",
   "metadata": {
    "scrolled": true
   },
   "outputs": [],
   "source": [
    "#creating a resampled dataframe\n",
    "dataset_resampled=pd.concat([columns_resampled,target_resampled],axis=1)"
   ]
  },
  {
   "cell_type": "code",
   "execution_count": 32,
   "id": "f0082699",
   "metadata": {},
   "outputs": [
    {
     "data": {
      "text/html": [
       "<div>\n",
       "<style scoped>\n",
       "    .dataframe tbody tr th:only-of-type {\n",
       "        vertical-align: middle;\n",
       "    }\n",
       "\n",
       "    .dataframe tbody tr th {\n",
       "        vertical-align: top;\n",
       "    }\n",
       "\n",
       "    .dataframe thead th {\n",
       "        text-align: right;\n",
       "    }\n",
       "</style>\n",
       "<table border=\"1\" class=\"dataframe\">\n",
       "  <thead>\n",
       "    <tr style=\"text-align: right;\">\n",
       "      <th></th>\n",
       "      <th>Pregnancies</th>\n",
       "      <th>Glucose</th>\n",
       "      <th>BloodPressure</th>\n",
       "      <th>SkinThickness</th>\n",
       "      <th>Insulin</th>\n",
       "      <th>BMI</th>\n",
       "      <th>DiabetesPedigreeFunction</th>\n",
       "      <th>Age</th>\n",
       "      <th>Outcome</th>\n",
       "    </tr>\n",
       "  </thead>\n",
       "  <tbody>\n",
       "    <tr>\n",
       "      <th>0</th>\n",
       "      <td>6</td>\n",
       "      <td>148.000000</td>\n",
       "      <td>72.000000</td>\n",
       "      <td>35</td>\n",
       "      <td>30.500000</td>\n",
       "      <td>33.600000</td>\n",
       "      <td>0.627000</td>\n",
       "      <td>50</td>\n",
       "      <td>1</td>\n",
       "    </tr>\n",
       "    <tr>\n",
       "      <th>1</th>\n",
       "      <td>1</td>\n",
       "      <td>85.000000</td>\n",
       "      <td>66.000000</td>\n",
       "      <td>29</td>\n",
       "      <td>30.500000</td>\n",
       "      <td>26.600000</td>\n",
       "      <td>0.351000</td>\n",
       "      <td>31</td>\n",
       "      <td>0</td>\n",
       "    </tr>\n",
       "    <tr>\n",
       "      <th>2</th>\n",
       "      <td>8</td>\n",
       "      <td>183.000000</td>\n",
       "      <td>64.000000</td>\n",
       "      <td>0</td>\n",
       "      <td>30.500000</td>\n",
       "      <td>23.300000</td>\n",
       "      <td>0.672000</td>\n",
       "      <td>32</td>\n",
       "      <td>1</td>\n",
       "    </tr>\n",
       "    <tr>\n",
       "      <th>3</th>\n",
       "      <td>1</td>\n",
       "      <td>89.000000</td>\n",
       "      <td>66.000000</td>\n",
       "      <td>23</td>\n",
       "      <td>94.000000</td>\n",
       "      <td>28.100000</td>\n",
       "      <td>0.167000</td>\n",
       "      <td>21</td>\n",
       "      <td>0</td>\n",
       "    </tr>\n",
       "    <tr>\n",
       "      <th>4</th>\n",
       "      <td>0</td>\n",
       "      <td>137.000000</td>\n",
       "      <td>40.000000</td>\n",
       "      <td>35</td>\n",
       "      <td>168.000000</td>\n",
       "      <td>43.100000</td>\n",
       "      <td>2.288000</td>\n",
       "      <td>33</td>\n",
       "      <td>1</td>\n",
       "    </tr>\n",
       "    <tr>\n",
       "      <th>...</th>\n",
       "      <td>...</td>\n",
       "      <td>...</td>\n",
       "      <td>...</td>\n",
       "      <td>...</td>\n",
       "      <td>...</td>\n",
       "      <td>...</td>\n",
       "      <td>...</td>\n",
       "      <td>...</td>\n",
       "      <td>...</td>\n",
       "    </tr>\n",
       "    <tr>\n",
       "      <th>995</th>\n",
       "      <td>4</td>\n",
       "      <td>112.068692</td>\n",
       "      <td>72.931308</td>\n",
       "      <td>34</td>\n",
       "      <td>104.793923</td>\n",
       "      <td>31.326706</td>\n",
       "      <td>0.583229</td>\n",
       "      <td>31</td>\n",
       "      <td>1</td>\n",
       "    </tr>\n",
       "    <tr>\n",
       "      <th>996</th>\n",
       "      <td>2</td>\n",
       "      <td>130.572457</td>\n",
       "      <td>65.144914</td>\n",
       "      <td>39</td>\n",
       "      <td>30.500000</td>\n",
       "      <td>35.775023</td>\n",
       "      <td>0.248374</td>\n",
       "      <td>25</td>\n",
       "      <td>1</td>\n",
       "    </tr>\n",
       "    <tr>\n",
       "      <th>997</th>\n",
       "      <td>8</td>\n",
       "      <td>149.874944</td>\n",
       "      <td>82.500045</td>\n",
       "      <td>45</td>\n",
       "      <td>238.499955</td>\n",
       "      <td>36.475033</td>\n",
       "      <td>0.972876</td>\n",
       "      <td>46</td>\n",
       "      <td>1</td>\n",
       "    </tr>\n",
       "    <tr>\n",
       "      <th>998</th>\n",
       "      <td>3</td>\n",
       "      <td>115.656818</td>\n",
       "      <td>79.737273</td>\n",
       "      <td>0</td>\n",
       "      <td>30.500000</td>\n",
       "      <td>31.043761</td>\n",
       "      <td>0.410639</td>\n",
       "      <td>57</td>\n",
       "      <td>1</td>\n",
       "    </tr>\n",
       "    <tr>\n",
       "      <th>999</th>\n",
       "      <td>6</td>\n",
       "      <td>112.644347</td>\n",
       "      <td>63.612670</td>\n",
       "      <td>2</td>\n",
       "      <td>33.889134</td>\n",
       "      <td>26.528508</td>\n",
       "      <td>0.721542</td>\n",
       "      <td>31</td>\n",
       "      <td>1</td>\n",
       "    </tr>\n",
       "  </tbody>\n",
       "</table>\n",
       "<p>1000 rows × 9 columns</p>\n",
       "</div>"
      ],
      "text/plain": [
       "     Pregnancies     Glucose  BloodPressure  SkinThickness     Insulin  \\\n",
       "0              6  148.000000      72.000000             35   30.500000   \n",
       "1              1   85.000000      66.000000             29   30.500000   \n",
       "2              8  183.000000      64.000000              0   30.500000   \n",
       "3              1   89.000000      66.000000             23   94.000000   \n",
       "4              0  137.000000      40.000000             35  168.000000   \n",
       "..           ...         ...            ...            ...         ...   \n",
       "995            4  112.068692      72.931308             34  104.793923   \n",
       "996            2  130.572457      65.144914             39   30.500000   \n",
       "997            8  149.874944      82.500045             45  238.499955   \n",
       "998            3  115.656818      79.737273              0   30.500000   \n",
       "999            6  112.644347      63.612670              2   33.889134   \n",
       "\n",
       "           BMI  DiabetesPedigreeFunction  Age  Outcome  \n",
       "0    33.600000                  0.627000   50        1  \n",
       "1    26.600000                  0.351000   31        0  \n",
       "2    23.300000                  0.672000   32        1  \n",
       "3    28.100000                  0.167000   21        0  \n",
       "4    43.100000                  2.288000   33        1  \n",
       "..         ...                       ...  ...      ...  \n",
       "995  31.326706                  0.583229   31        1  \n",
       "996  35.775023                  0.248374   25        1  \n",
       "997  36.475033                  0.972876   46        1  \n",
       "998  31.043761                  0.410639   57        1  \n",
       "999  26.528508                  0.721542   31        1  \n",
       "\n",
       "[1000 rows x 9 columns]"
      ]
     },
     "execution_count": 32,
     "metadata": {},
     "output_type": "execute_result"
    }
   ],
   "source": [
    "dataset_resampled"
   ]
  },
  {
   "cell_type": "code",
   "execution_count": 33,
   "id": "b8c430f5",
   "metadata": {},
   "outputs": [],
   "source": [
    "#creating two seperate datasets based on outcomes 1 and 0 for the resampled data\n",
    "\n",
    "dataset_res_out1=dataset_resampled[dataset_resampled[\"Outcome\"]==1]\n",
    "\n",
    "dataset_res_out2=dataset_resampled[dataset_resampled[\"Outcome\"]==0]"
   ]
  },
  {
   "cell_type": "code",
   "execution_count": 34,
   "id": "98e0fd4d",
   "metadata": {},
   "outputs": [
    {
     "data": {
      "text/plain": [
       "<AxesSubplot:xlabel='Outcome', ylabel='count'>"
      ]
     },
     "execution_count": 34,
     "metadata": {},
     "output_type": "execute_result"
    },
    {
     "data": {
      "image/png": "[encoded data removed]",
      "text/plain": [
       "<Figure size 432x288 with 1 Axes>"
      ]
     },
     "metadata": {
      "needs_background": "light"
     },
     "output_type": "display_data"
    }
   ],
   "source": [
    "#creating a Countplot to see the class ratio after resampling.\n",
    "sns.countplot(x='Outcome',data=dataset_resampled)"
   ]
  },
  {
   "cell_type": "markdown",
   "id": "1d8f94ce",
   "metadata": {},
   "source": [
    "#### Comment: The classes are now balanced by SMOTE"
   ]
  },
  {
   "cell_type": "code",
   "execution_count": 35,
   "id": "a9939050",
   "metadata": {
    "scrolled": true
   },
   "outputs": [
    {
     "data": {
      "text/plain": [
       "<AxesSubplot:xlabel='Outcome', ylabel='DiabetesPedigreeFunction'>"
      ]
     },
     "execution_count": 35,
     "metadata": {},
     "output_type": "execute_result"
    },
    {
     "data": {
      "image/png": "[encoded data removed]",
      "text/plain": [
       "<Figure size 432x288 with 1 Axes>"
      ]
     },
     "metadata": {
      "needs_background": "light"
     },
     "output_type": "display_data"
    }
   ],
   "source": [
    "#checking the diabetes pedegree function between diabetics and non-diabetics\n",
    "sns.violinplot(data=dataset_resampled, x=\"Outcome\",y=\"DiabetesPedigreeFunction\")\n"
   ]
  },
  {
   "cell_type": "markdown",
   "id": "277608d4",
   "metadata": {},
   "source": [
    "#### Findings: diabetics seem to have a higher pedigree function than non diabetics"
   ]
  },
  {
   "cell_type": "markdown",
   "id": "90c574a6",
   "metadata": {},
   "source": [
    "## Creating scatterplots to see the relationship between data using the resampled dataset."
   ]
  },
  {
   "cell_type": "markdown",
   "id": "810da292",
   "metadata": {},
   "source": [
    "#### Comment: Domain knowledge comes into picture to understand the the intricacies here."
   ]
  },
  {
   "cell_type": "code",
   "execution_count": 36,
   "id": "eb348818",
   "metadata": {},
   "outputs": [
    {
     "data": {
      "text/plain": [
       "<function matplotlib.pyplot.show(close=None, block=None)>"
      ]
     },
     "execution_count": 36,
     "metadata": {},
     "output_type": "execute_result"
    },
    {
     "data": {
      "image/png": "[encoded data removed]",
      "text/plain": [
       "<Figure size 432x288 with 1 Axes>"
      ]
     },
     "metadata": {
      "needs_background": "light"
     },
     "output_type": "display_data"
    }
   ],
   "source": [
    "plt.scatter(dataset_res_out1['BloodPressure'],dataset_res_out1['Insulin'])\n",
    "plt.show"
   ]
  },
  {
   "cell_type": "markdown",
   "id": "f3ba24ad",
   "metadata": {},
   "source": [
    "#### Findings: The maximum patients fall in the blood pressure range around 80(if it is systolic, the BP is normal), the insulin values are around 200 for these patients."
   ]
  },
  {
   "cell_type": "code",
   "execution_count": 37,
   "id": "76dae180",
   "metadata": {},
   "outputs": [
    {
     "data": {
      "text/plain": [
       "<function matplotlib.pyplot.show(close=None, block=None)>"
      ]
     },
     "execution_count": 37,
     "metadata": {},
     "output_type": "execute_result"
    },
    {
     "data": {
      "image/png": "[encoded data removed]",
      "text/plain": [
       "<Figure size 432x288 with 1 Axes>"
      ]
     },
     "metadata": {
      "needs_background": "light"
     },
     "output_type": "display_data"
    }
   ],
   "source": [
    "plt.scatter(dataset_res_out1['Glucose'],dataset_res_out1['Insulin'])\n",
    "plt.show"
   ]
  },
  {
   "cell_type": "markdown",
   "id": "813610ab",
   "metadata": {},
   "source": [
    "#### Findings: The glucose levels for maximum Number of patients lie within 100 to 180 and insulin levels fall in the 200 range."
   ]
  },
  {
   "cell_type": "code",
   "execution_count": 38,
   "id": "cbd4642e",
   "metadata": {},
   "outputs": [
    {
     "data": {
      "text/plain": [
       "<function matplotlib.pyplot.show(close=None, block=None)>"
      ]
     },
     "execution_count": 38,
     "metadata": {},
     "output_type": "execute_result"
    },
    {
     "data": {
      "image/png": "[encoded data removed]",
      "text/plain": [
       "<Figure size 432x288 with 1 Axes>"
      ]
     },
     "metadata": {
      "needs_background": "light"
     },
     "output_type": "display_data"
    }
   ],
   "source": [
    "plt.scatter(dataset_res_out1['Glucose'],dataset_res_out1['BMI'])\n",
    "plt.show"
   ]
  },
  {
   "cell_type": "markdown",
   "id": "38ae63ac",
   "metadata": {},
   "source": [
    "#### Findings: The BMI for maximum number of patients is around the 30-40 range, overall the patients seem overweight."
   ]
  },
  {
   "cell_type": "code",
   "execution_count": 39,
   "id": "d641c02d",
   "metadata": {},
   "outputs": [
    {
     "data": {
      "text/plain": [
       "<function matplotlib.pyplot.show(close=None, block=None)>"
      ]
     },
     "execution_count": 39,
     "metadata": {},
     "output_type": "execute_result"
    },
    {
     "data": {
      "image/png": "[encoded data removed]",
      "text/plain": [
       "<Figure size 432x288 with 1 Axes>"
      ]
     },
     "metadata": {
      "needs_background": "light"
     },
     "output_type": "display_data"
    }
   ],
   "source": [
    "plt.scatter(dataset_res_out1['BloodPressure'],dataset_res_out1['Glucose'])\n",
    "plt.show"
   ]
  },
  {
   "cell_type": "markdown",
   "id": "13d0ca84",
   "metadata": {},
   "source": [
    "#### Findings: It seems that higher value of BP is having lower values of insulin.\n"
   ]
  },
  {
   "cell_type": "code",
   "execution_count": 40,
   "id": "cfb570e4",
   "metadata": {},
   "outputs": [
    {
     "data": {
      "text/plain": [
       "<function matplotlib.pyplot.show(close=None, block=None)>"
      ]
     },
     "execution_count": 40,
     "metadata": {},
     "output_type": "execute_result"
    },
    {
     "data": {
      "image/png": "[encoded data removed]",
      "text/plain": [
       "<Figure size 432x288 with 1 Axes>"
      ]
     },
     "metadata": {
      "needs_background": "light"
     },
     "output_type": "display_data"
    }
   ],
   "source": [
    "plt.scatter(dataset_res_out1['BloodPressure'],dataset_res_out1['Age'])\n",
    "plt.show"
   ]
  },
  {
   "cell_type": "markdown",
   "id": "e55c9deb",
   "metadata": {},
   "source": [
    "#### The BP range of 100 is around ages 40+"
   ]
  },
  {
   "cell_type": "markdown",
   "id": "a7e0e15a",
   "metadata": {},
   "source": [
    "## Correlation analysis using Heatmap."
   ]
  },
  {
   "cell_type": "code",
   "execution_count": 41,
   "id": "09476801",
   "metadata": {},
   "outputs": [
    {
     "data": {
      "text/plain": [
       "<AxesSubplot:>"
      ]
     },
     "execution_count": 41,
     "metadata": {},
     "output_type": "execute_result"
    },
    {
     "data": {
      "image/png": "[encoded data removed]",
      "text/plain": [
       "<Figure size 432x288 with 2 Axes>"
      ]
     },
     "metadata": {
      "needs_background": "light"
     },
     "output_type": "display_data"
    }
   ],
   "source": [
    "sns.heatmap(dataset_res_out1.corr(),annot=True)"
   ]
  },
  {
   "cell_type": "markdown",
   "id": "19060f97",
   "metadata": {},
   "source": [
    "#### Findings: From the correlation map, the variables that have a higher correlation are \n",
    "* Age & Pregnancies\n",
    "* Insulin & Skin Thickness\n",
    "* BMI & Skin thickness"
   ]
  },
  {
   "cell_type": "markdown",
   "id": "1021c656",
   "metadata": {},
   "source": [
    "#### Plotting scatter plots for variables with a higher level of correlation"
   ]
  },
  {
   "cell_type": "code",
   "execution_count": 42,
   "id": "55177953",
   "metadata": {},
   "outputs": [
    {
     "data": {
      "text/plain": [
       "<function matplotlib.pyplot.show(close=None, block=None)>"
      ]
     },
     "execution_count": 42,
     "metadata": {},
     "output_type": "execute_result"
    },
    {
     "data": {
      "image/png": "[encoded data removed]",
      "text/plain": [
       "<Figure size 432x288 with 1 Axes>"
      ]
     },
     "metadata": {
      "needs_background": "light"
     },
     "output_type": "display_data"
    }
   ],
   "source": [
    "#plotting scatterplot for Age against & Pregnancies\n",
    "plt.scatter(dataset_res_out1['Age'],dataset_res_out1['Pregnancies'])\n",
    "plt.show"
   ]
  },
  {
   "cell_type": "markdown",
   "id": "e75a2082",
   "metadata": {},
   "source": [
    "#### Findings: The maximum pregancies were found to be in women from 20 to 40 years of age"
   ]
  },
  {
   "cell_type": "code",
   "execution_count": 43,
   "id": "3760c21b",
   "metadata": {},
   "outputs": [
    {
     "data": {
      "text/plain": [
       "<function matplotlib.pyplot.show(close=None, block=None)>"
      ]
     },
     "execution_count": 43,
     "metadata": {},
     "output_type": "execute_result"
    },
    {
     "data": {
      "image/png": "[encoded data removed]",
      "text/plain": [
       "<Figure size 432x288 with 1 Axes>"
      ]
     },
     "metadata": {
      "needs_background": "light"
     },
     "output_type": "display_data"
    }
   ],
   "source": [
    "#plotting scatterplot for Insulin against & Skin Thickness\n",
    "plt.scatter(dataset_res_out1['Insulin'],dataset_res_out1['SkinThickness'])\n",
    "plt.show"
   ]
  },
  {
   "cell_type": "markdown",
   "id": "7d27c355",
   "metadata": {},
   "source": [
    "#### Findings: THe skin thickness lies in betwen 20 and 50 while the insulin levels are concenterated around 150-200."
   ]
  },
  {
   "cell_type": "code",
   "execution_count": 44,
   "id": "7edab386",
   "metadata": {},
   "outputs": [
    {
     "data": {
      "text/plain": [
       "<function matplotlib.pyplot.show(close=None, block=None)>"
      ]
     },
     "execution_count": 44,
     "metadata": {},
     "output_type": "execute_result"
    },
    {
     "data": {
      "image/png": "[encoded data removed]",
      "text/plain": [
       "<Figure size 432x288 with 1 Axes>"
      ]
     },
     "metadata": {
      "needs_background": "light"
     },
     "output_type": "display_data"
    }
   ],
   "source": [
    "#plotting scatterplot for BMI against & Skin Thickness\n",
    "plt.scatter(dataset_res_out1['BMI'],dataset_res_out1['SkinThickness'])\n",
    "plt.show"
   ]
  },
  {
   "cell_type": "markdown",
   "id": "f99d0e19",
   "metadata": {},
   "source": [
    "#### Findings: In most patients, the skin thickness lies around 35 while the skin thickness has median value around 40."
   ]
  },
  {
   "cell_type": "markdown",
   "id": "8e1e1f68",
   "metadata": {},
   "source": [
    "# (Data Modelling)"
   ]
  },
  {
   "cell_type": "markdown",
   "id": "8098ce8d",
   "metadata": {},
   "source": [
    "## Feature Scaling"
   ]
  },
  {
   "cell_type": "markdown",
   "id": "c0219a40",
   "metadata": {},
   "source": [
    "#### Thoughts: There are variables or features following different scales of magnitude. The data needs to be scaled before proceeding further. \n"
   ]
  },
  {
   "cell_type": "markdown",
   "id": "f185fb77",
   "metadata": {},
   "source": [
    "#### We use standard scaler for the scaling of data "
   ]
  },
  {
   "cell_type": "code",
   "execution_count": 45,
   "id": "1099af99",
   "metadata": {},
   "outputs": [],
   "source": [
    "#Splitting the resampled data into dependent and independent variables\n",
    "B = dataset_resampled.Outcome\n",
    "a = dataset_resampled.drop('Outcome', axis = 1)\n",
    "columns = a.columns\n",
    "from sklearn.preprocessing import StandardScaler\n",
    "scaler = StandardScaler()\n",
    "A = scaler.fit_transform(a)\n",
    "data_a = pd.DataFrame(A, columns = columns)"
   ]
  },
  {
   "cell_type": "code",
   "execution_count": 46,
   "id": "4aa837ed",
   "metadata": {},
   "outputs": [],
   "source": [
    "import pickle\n",
    "pickle.dump(scaler,open('scaling.pkl','wb'))"
   ]
  },
  {
   "cell_type": "markdown",
   "id": "e3c2cd25",
   "metadata": {},
   "source": [
    "#### We have now scaled the features"
   ]
  },
  {
   "cell_type": "markdown",
   "id": "7bb8cb47",
   "metadata": {},
   "source": [
    "## Dividing the data into Train_Test_Split"
   ]
  },
  {
   "cell_type": "markdown",
   "id": "bfff1547",
   "metadata": {},
   "source": [
    "#### We now divide the data at 80 train 20 test ratio in order to test the model. The data has already been resampled using smote technique earlier.\n"
   ]
  },
  {
   "cell_type": "code",
   "execution_count": 47,
   "id": "6da8a380",
   "metadata": {},
   "outputs": [],
   "source": [
    "#Splitting the data into training and test\n",
    "from sklearn.model_selection import train_test_split\n",
    "x_train, x_test, y_train, y_test = train_test_split(data_a, B, test_size = 0.2, random_state = 40)"
   ]
  },
  {
   "cell_type": "markdown",
   "id": "d4a90f37",
   "metadata": {},
   "source": [
    "## Applying Different ML Algorithms to see which gives the best results in comparison with KNN model."
   ]
  },
  {
   "cell_type": "markdown",
   "id": "32b6c543",
   "metadata": {},
   "source": [
    "### Applying logistic regression:"
   ]
  },
  {
   "cell_type": "code",
   "execution_count": 48,
   "id": "389eac1a",
   "metadata": {},
   "outputs": [
    {
     "name": "stdout",
     "output_type": "stream",
     "text": [
      "Accuracy of logistic regression classifier on test set: 0.77\n"
     ]
    }
   ],
   "source": [
    "from sklearn.linear_model import LogisticRegression\n",
    "logreg = LogisticRegression()\n",
    "logreg.fit(x_train, y_train)\n",
    "y_pred_LR = logreg.predict(x_test)\n",
    "print('Accuracy of logistic regression classifier on test set: {:.2f}'.format(logreg.score(x_test, y_test)))"
   ]
  },
  {
   "cell_type": "markdown",
   "id": "c5dd4d95",
   "metadata": {},
   "source": [
    "### Applying SVM:"
   ]
  },
  {
   "cell_type": "code",
   "execution_count": 49,
   "id": "9e43f3e7",
   "metadata": {},
   "outputs": [
    {
     "name": "stdout",
     "output_type": "stream",
     "text": [
      "Accuracy of SVC (RBF) classifier on test set: 0.79\n"
     ]
    }
   ],
   "source": [
    "from sklearn.svm import SVC\n",
    "classifier_rbf = SVC(kernel = 'rbf')\n",
    "classifier_rbf.fit(x_train, y_train)\n",
    "y_pred_SVM = classifier_rbf.predict(x_test)\n",
    "print('Accuracy of SVC (RBF) classifier on test set: {:.2f}'.format(classifier_rbf.score(x_test, y_test)))"
   ]
  },
  {
   "cell_type": "markdown",
   "id": "f780e269",
   "metadata": {},
   "source": [
    "### Applying KNN Algorithm"
   ]
  },
  {
   "cell_type": "code",
   "execution_count": 50,
   "id": "b1358675",
   "metadata": {},
   "outputs": [
    {
     "name": "stdout",
     "output_type": "stream",
     "text": [
      "Accuracy of KNN classifier on test set: 0.77\n"
     ]
    }
   ],
   "source": [
    "from sklearn.neighbors import KNeighborsClassifier\n",
    "knn = KNeighborsClassifier(n_neighbors=7)\n",
    "knn.fit(x_train, y_train)\n",
    "print('Accuracy of KNN classifier on test set: {:.2f}'. format(knn.score(x_test,y_test)))"
   ]
  },
  {
   "cell_type": "markdown",
   "id": "c952b748",
   "metadata": {},
   "source": [
    "### Applying Random Forest"
   ]
  },
  {
   "cell_type": "code",
   "execution_count": 51,
   "id": "74132141",
   "metadata": {},
   "outputs": [
    {
     "name": "stdout",
     "output_type": "stream",
     "text": [
      "Accuracy of Random Forest on test set: 0.83\n"
     ]
    }
   ],
   "source": [
    "from sklearn.ensemble import RandomForestClassifier\n",
    "model = RandomForestClassifier(n_estimators=300, bootstrap = True, max_features = 'sqrt')\n",
    "model.fit(x_train, y_train)\n",
    "y_pred_RF = model.predict(x_test)\n",
    "print('Accuracy of Random Forest on test set: {:.2f}'.format(model.score(x_test, y_test)))"
   ]
  },
  {
   "cell_type": "markdown",
   "id": "b570cf27",
   "metadata": {},
   "source": [
    "### Applying Decision Tree"
   ]
  },
  {
   "cell_type": "code",
   "execution_count": 52,
   "id": "8fe8bc03",
   "metadata": {},
   "outputs": [
    {
     "name": "stdout",
     "output_type": "stream",
     "text": [
      "Accuracy of Decision Tree on test set: 0.76\n"
     ]
    }
   ],
   "source": [
    "from sklearn.tree import DecisionTreeClassifier\n",
    "C1DT=DecisionTreeClassifier()\n",
    "C1DT.fit(x_train, y_train)\n",
    "y_pred_C1DT = C1DT.predict(x_test)\n",
    "print('Accuracy of Decision Tree on test set: {:.2f}'.format(C1DT.score(x_test, y_test)))"
   ]
  },
  {
   "cell_type": "markdown",
   "id": "05bf7fc6",
   "metadata": {},
   "source": [
    "#### Thoughts: From the above it seems that Random Forest algorithm works best for the data distribution with a score of 84%"
   ]
  },
  {
   "cell_type": "markdown",
   "id": "bc266a70",
   "metadata": {},
   "source": [
    "### Creating the confusion matrix and classification report."
   ]
  },
  {
   "cell_type": "code",
   "execution_count": 53,
   "id": "c5f80e3a",
   "metadata": {},
   "outputs": [
    {
     "name": "stdout",
     "output_type": "stream",
     "text": [
      "cm [[82 15]\n",
      " [18 85]]\n"
     ]
    }
   ],
   "source": [
    "# Confusion matrix\n",
    "from sklearn.metrics import confusion_matrix\n",
    "print(\"cm\", confusion_matrix(y_pred_RF,y_test))"
   ]
  },
  {
   "cell_type": "code",
   "execution_count": 54,
   "id": "0aff7ddd",
   "metadata": {},
   "outputs": [
    {
     "name": "stdout",
     "output_type": "stream",
     "text": [
      "Classification Report               precision    recall  f1-score   support\n",
      "\n",
      "           0       0.82      0.85      0.83        97\n",
      "           1       0.85      0.83      0.84       103\n",
      "\n",
      "    accuracy                           0.83       200\n",
      "   macro avg       0.83      0.84      0.83       200\n",
      "weighted avg       0.84      0.83      0.84       200\n",
      "\n"
     ]
    }
   ],
   "source": [
    "#classification report\n",
    "from sklearn.metrics import classification_report\n",
    "print(\"Classification Report\", classification_report(y_pred_RF,y_test))"
   ]
  },
  {
   "cell_type": "code",
   "execution_count": 55,
   "id": "e284efd7",
   "metadata": {},
   "outputs": [
    {
     "name": "stdout",
     "output_type": "stream",
     "text": [
      "Accuracy Score 0.835\n"
     ]
    }
   ],
   "source": [
    "#accuracy score\n",
    "from sklearn.metrics import accuracy_score\n",
    "print(\"Accuracy Score\", accuracy_score(y_pred_RF,y_test))"
   ]
  },
  {
   "cell_type": "code",
   "execution_count": 56,
   "id": "f27d9dc0",
   "metadata": {},
   "outputs": [
    {
     "name": "stdout",
     "output_type": "stream",
     "text": [
      "Accuracy Score 1.0\n"
     ]
    }
   ],
   "source": [
    "x_pred = model.predict(x_train)\n",
    "print(\"Accuracy Score\", accuracy_score(x_pred,x_pred))"
   ]
  },
  {
   "cell_type": "markdown",
   "id": "58e6906d",
   "metadata": {},
   "source": [
    "#### The insights in this case where train data is predicted in itself by the alogorithm. The data seems to be overfitting. Although this is just for understanding, overfitting can be reduced by techniques like\n",
    "* Cross Validation\n",
    "* Data Augumentation\n",
    "* Feature Selection"
   ]
  },
  {
   "cell_type": "markdown",
   "id": "9144a5da",
   "metadata": {},
   "source": [
    "### saving the models. \n"
   ]
  },
  {
   "cell_type": "code",
   "execution_count": 57,
   "id": "fd72ed0b",
   "metadata": {},
   "outputs": [
    {
     "data": {
      "text/plain": [
       "['RandomForest_Model.sav']"
      ]
     },
     "execution_count": 57,
     "metadata": {},
     "output_type": "execute_result"
    }
   ],
   "source": [
    "#saving random forest model\n",
    "import joblib\n",
    "filename_RF='RandomForest_Model.sav'\n",
    "joblib.dump(model,filename_RF)\n",
    "\n"
   ]
  },
  {
   "cell_type": "code",
   "execution_count": 58,
   "id": "ae465b40",
   "metadata": {},
   "outputs": [
    {
     "data": {
      "text/plain": [
       "['SVM_Model.sav']"
      ]
     },
     "execution_count": 58,
     "metadata": {},
     "output_type": "execute_result"
    }
   ],
   "source": [
    "#saving SVM model\n",
    "filename_SVM='SVM_Model.sav'\n",
    "joblib.dump(classifier_rbf,filename_SVM)"
   ]
  },
  {
   "cell_type": "code",
   "execution_count": 59,
   "id": "e56bbc85",
   "metadata": {},
   "outputs": [
    {
     "data": {
      "text/plain": [
       "['LR_Model.sav']"
      ]
     },
     "execution_count": 59,
     "metadata": {},
     "output_type": "execute_result"
    }
   ],
   "source": [
    "#saving Logistic Regression model\n",
    "filename_LR='LR_Model.sav'\n",
    "joblib.dump(logreg,filename_LR)"
   ]
  },
  {
   "cell_type": "code",
   "execution_count": 60,
   "id": "31547283",
   "metadata": {},
   "outputs": [
    {
     "data": {
      "text/plain": [
       "['KNN_Model.sav']"
      ]
     },
     "execution_count": 60,
     "metadata": {},
     "output_type": "execute_result"
    }
   ],
   "source": [
    "#saving KNN model\n",
    "filename_KNN='KNN_Model.sav'\n",
    "joblib.dump(knn,filename_KNN)"
   ]
  },
  {
   "cell_type": "code",
   "execution_count": 61,
   "id": "5f693753",
   "metadata": {},
   "outputs": [
    {
     "data": {
      "text/plain": [
       "['DT_Model.sav']"
      ]
     },
     "execution_count": 61,
     "metadata": {},
     "output_type": "execute_result"
    }
   ],
   "source": [
    "#saving Decision Tree model\n",
    "filename_DT='DT_Model.sav'\n",
    "joblib.dump(C1DT,filename_DT)"
   ]
  },
  {
   "cell_type": "markdown",
   "id": "5ca29fb8",
   "metadata": {},
   "source": [
    "### Doing some predictions from the saved model"
   ]
  },
  {
   "cell_type": "code",
   "execution_count": 62,
   "id": "2c7b9abb",
   "metadata": {
    "scrolled": true
   },
   "outputs": [
    {
     "data": {
      "text/plain": [
       "array([1, 1, 1, 0, 1, 1, 0, 0, 0, 1, 0, 0, 1, 0, 1, 0, 0, 0, 0, 0, 0, 0,\n",
       "       1, 1, 1, 1, 0, 0, 0, 0, 0, 1, 1, 1, 0, 1, 0, 0, 1, 1, 1, 1, 1, 0,\n",
       "       1, 0, 0, 0, 1, 0, 1, 0, 1, 0, 0, 1, 1, 1, 0, 0, 1, 1, 0, 1, 1, 1,\n",
       "       0, 0, 0, 0, 0, 1, 1, 0, 0, 1, 0, 1, 1, 0, 0, 0, 1, 1, 0, 0, 1, 1,\n",
       "       0, 0, 1, 0, 1, 1, 1, 0, 1, 1, 1, 0, 0, 0, 0, 1, 0, 0, 0, 0, 1, 1,\n",
       "       1, 1, 1, 1, 0, 1, 0, 1, 0, 0, 0, 1, 0, 0, 0, 1, 0, 1, 0, 0, 1, 1,\n",
       "       0, 1, 1, 1, 1, 1, 1, 0, 1, 0, 0, 0, 1, 0, 0, 1, 0, 0, 1, 0, 0, 1,\n",
       "       0, 0, 1, 0, 0, 1, 1, 0, 0, 1, 1, 1, 0, 1, 1, 1, 0, 1, 0, 0, 1, 0,\n",
       "       1, 1, 0, 1, 1, 1, 1, 0, 1, 1, 0, 0, 1, 1, 1, 1, 0, 1, 1, 1, 1, 0,\n",
       "       1, 1], dtype=int64)"
      ]
     },
     "execution_count": 62,
     "metadata": {},
     "output_type": "execute_result"
    }
   ],
   "source": [
    "model1=joblib.load('RandomForest_Model.sav')\n",
    "y_pred1=model1.predict(x_test)\n",
    "y_pred1"
   ]
  },
  {
   "cell_type": "code",
   "execution_count": null,
   "id": "97aa2252",
   "metadata": {},
   "outputs": [],
   "source": []
  },
  {
   "cell_type": "code",
   "execution_count": null,
   "id": "a0127b77",
   "metadata": {},
   "outputs": [],
   "source": []
  },
  {
   "cell_type": "markdown",
   "id": "7b204fec",
   "metadata": {},
   "source": [
    "### These saved models are used to further deploy on cloud."
   ]
  },
  {
   "cell_type": "code",
   "execution_count": 63,
   "id": "4892cda6",
   "metadata": {},
   "outputs": [
    {
     "name": "stdout",
     "output_type": "stream",
     "text": [
      "The person is diabetes +ve if 1 and -ve if 0: [0]\n"
     ]
    },
    {
     "name": "stderr",
     "output_type": "stream",
     "text": [
      "C:\\Users\\mithu\\AppData\\Roaming\\Python\\Python39\\site-packages\\sklearn\\base.py:450: UserWarning: X does not have valid feature names, but RandomForestClassifier was fitted with feature names\n",
      "  warnings.warn(\n"
     ]
    }
   ],
   "source": [
    "### using the model to predict some real time cases\n",
    "Pregnancies=1\n",
    "Glucose=120\n",
    "BloodPressure=70\n",
    "SkinThickness=30\n",
    "Insulin=150\n",
    "BMI=30\n",
    "DiabetesPedigreeFunction=0.65\n",
    "Age=22\n",
    "outputrealtime=model1.predict([[Pregnancies, Glucose, BloodPressure, SkinThickness, Insulin, BMI, DiabetesPedigreeFunction, Age]])\n",
    "print(\"The person is diabetes +ve if 1 and -ve if 0:\", outputrealtime)"
   ]
  },
  {
   "cell_type": "markdown",
   "id": "33c70232",
   "metadata": {},
   "source": [
    "#### Analysing Sensitivity And Specifity of model\n",
    "* sensitivity= true positive/(true positive + false negative)\n",
    "* specificity= true negative/(true negative + false positive)"
   ]
  },
  {
   "cell_type": "code",
   "execution_count": 64,
   "id": "c61db63a",
   "metadata": {},
   "outputs": [
    {
     "name": "stdout",
     "output_type": "stream",
     "text": [
      "Confusion_Matrix_LR: [[82 28]\n",
      " [18 72]]\n"
     ]
    }
   ],
   "source": [
    "# Creating Confusion Matrix for logistic regression model\n",
    "cmLR=confusion_matrix(y_pred_LR,y_test)\n",
    "print(\"Confusion_Matrix_LR:\",cmLR)\n"
   ]
  },
  {
   "cell_type": "code",
   "execution_count": 65,
   "id": "d822a0f5",
   "metadata": {},
   "outputs": [
    {
     "name": "stdout",
     "output_type": "stream",
     "text": [
      "Sensitivity for LR model:  0.7454545454545455\n",
      "Specificity for LR model:  0.8\n"
     ]
    }
   ],
   "source": [
    "#Checking sensitivity and specificity for LR model\n",
    "sensitivityLR = cmLR[0,0]/(cmLR[0,0]+cmLR[0,1])\n",
    "print('Sensitivity for LR model: ', sensitivityLR )\n",
    "specificityLR = cmLR[1,1]/(cmLR[1,0]+cmLR[1,1])\n",
    "print('Specificity for LR model: ', specificityLR )"
   ]
  },
  {
   "cell_type": "code",
   "execution_count": 66,
   "id": "e094123e",
   "metadata": {},
   "outputs": [
    {
     "name": "stdout",
     "output_type": "stream",
     "text": [
      "Confusion_Matrix_RF: [[82 15]\n",
      " [18 85]]\n"
     ]
    }
   ],
   "source": [
    "# Creating Confusion Matrix for Random Forest model\n",
    "cmRF=confusion_matrix(y_pred_RF,y_test)\n",
    "print(\"Confusion_Matrix_RF:\",cmRF)"
   ]
  },
  {
   "cell_type": "code",
   "execution_count": 67,
   "id": "9876cda8",
   "metadata": {},
   "outputs": [
    {
     "name": "stdout",
     "output_type": "stream",
     "text": [
      "Sensitivity for RF model:  0.845360824742268\n",
      "Specificity for RF model:  0.8252427184466019\n"
     ]
    }
   ],
   "source": [
    "#Checking sensitivity and specificity for RF model\n",
    "sensitivityRF = cmRF[0,0]/(cmRF[0,0]+cmRF[0,1])\n",
    "print('Sensitivity for RF model: ', sensitivityRF )\n",
    "specificityRF = cmRF[1,1]/(cmRF[1,0]+cmRF[1,1])\n",
    "print('Specificity for RF model: ', specificityRF )"
   ]
  },
  {
   "cell_type": "code",
   "execution_count": 68,
   "id": "01479ff0",
   "metadata": {},
   "outputs": [
    {
     "name": "stdout",
     "output_type": "stream",
     "text": [
      "Confusion_Matrix_C1DT: [[75 24]\n",
      " [25 76]]\n"
     ]
    }
   ],
   "source": [
    "# Creating Confusion Matrix for Decision Tree model\n",
    "cmC1DT=confusion_matrix(y_pred_C1DT,y_test)\n",
    "print(\"Confusion_Matrix_C1DT:\",cmC1DT)"
   ]
  },
  {
   "cell_type": "markdown",
   "id": "f66049b5",
   "metadata": {},
   "source": [
    "### Creating AUC ROC curve for the models."
   ]
  },
  {
   "cell_type": "code",
   "execution_count": 69,
   "id": "569ace84",
   "metadata": {},
   "outputs": [
    {
     "name": "stdout",
     "output_type": "stream",
     "text": [
      "AUC for Logistic Regression Model: 0.8497999999999999\n"
     ]
    },
    {
     "data": {
      "image/png": "[encoded data removed]",
      "text/plain": [
       "<Figure size 432x288 with 1 Axes>"
      ]
     },
     "metadata": {
      "needs_background": "light"
     },
     "output_type": "display_data"
    }
   ],
   "source": [
    "from sklearn import metrics\n",
    "PredY_LR=logreg.predict_proba(x_test)\n",
    "fpr, tpr, thresh = metrics.roc_curve(y_test, PredY_LR[:,1])\n",
    "auc = metrics.auc(fpr, tpr)\n",
    "print(\"AUC for Logistic Regression Model:\", auc)\n",
    "plt.plot(fpr, tpr, label='ROC curve (area = %.3f)' %auc)\n",
    "plt.plot([0, 1], [0, 1], linestyle='--', lw=2, color='r', label='Random guess')\n",
    "plt.title('ROC curve')\n",
    "plt.xlabel('False Positive Rate')\n",
    "plt.ylabel('True Positive Rate')\n",
    "plt.grid()\n",
    "plt.legend()\n",
    "plt.show()\n"
   ]
  },
  {
   "cell_type": "code",
   "execution_count": 70,
   "id": "ddc5f5b3",
   "metadata": {
    "scrolled": true
   },
   "outputs": [
    {
     "name": "stderr",
     "output_type": "stream",
     "text": [
      "C:\\Users\\mithu\\AppData\\Roaming\\Python\\Python39\\site-packages\\sklearn\\utils\\deprecation.py:87: FutureWarning: Function plot_roc_curve is deprecated; Function :func:`plot_roc_curve` is deprecated in 1.0 and will be removed in 1.2. Use one of the class methods: :meth:`sklearn.metrics.RocCurveDisplay.from_predictions` or :meth:`sklearn.metrics.RocCurveDisplay.from_estimator`.\n",
      "  warnings.warn(msg, category=FutureWarning)\n"
     ]
    },
    {
     "data": {
      "image/png": "[encoded data removed]",
      "text/plain": [
       "<Figure size 432x288 with 1 Axes>"
      ]
     },
     "metadata": {
      "needs_background": "light"
     },
     "output_type": "display_data"
    }
   ],
   "source": [
    "#creating AUC/ROC Curve for logistic regression model using sklearn\n",
    "from sklearn import metrics\n",
    "metrics.plot_roc_curve(logreg, x_test, y_test)\n",
    "plt.show()"
   ]
  },
  {
   "cell_type": "code",
   "execution_count": null,
   "id": "9689a5db",
   "metadata": {},
   "outputs": [],
   "source": []
  },
  {
   "cell_type": "code",
   "execution_count": 71,
   "id": "6293099f",
   "metadata": {},
   "outputs": [
    {
     "name": "stderr",
     "output_type": "stream",
     "text": [
      "C:\\Users\\mithu\\AppData\\Roaming\\Python\\Python39\\site-packages\\sklearn\\utils\\deprecation.py:87: FutureWarning: Function plot_roc_curve is deprecated; Function :func:`plot_roc_curve` is deprecated in 1.0 and will be removed in 1.2. Use one of the class methods: :meth:`sklearn.metrics.RocCurveDisplay.from_predictions` or :meth:`sklearn.metrics.RocCurveDisplay.from_estimator`.\n",
      "  warnings.warn(msg, category=FutureWarning)\n"
     ]
    },
    {
     "data": {
      "image/png": "[encoded data removed]",
      "text/plain": [
       "<Figure size 432x288 with 1 Axes>"
      ]
     },
     "metadata": {
      "needs_background": "light"
     },
     "output_type": "display_data"
    }
   ],
   "source": [
    "#creating AUC/ROC Curve for SVM model using sklearn\n",
    "from sklearn import metrics\n",
    "metrics.plot_roc_curve(classifier_rbf, x_test, y_test)\n",
    "plt.show()"
   ]
  },
  {
   "cell_type": "code",
   "execution_count": 72,
   "id": "e20a7006",
   "metadata": {},
   "outputs": [
    {
     "name": "stderr",
     "output_type": "stream",
     "text": [
      "C:\\Users\\mithu\\AppData\\Roaming\\Python\\Python39\\site-packages\\sklearn\\utils\\deprecation.py:87: FutureWarning: Function plot_roc_curve is deprecated; Function :func:`plot_roc_curve` is deprecated in 1.0 and will be removed in 1.2. Use one of the class methods: :meth:`sklearn.metrics.RocCurveDisplay.from_predictions` or :meth:`sklearn.metrics.RocCurveDisplay.from_estimator`.\n",
      "  warnings.warn(msg, category=FutureWarning)\n"
     ]
    },
    {
     "data": {
      "image/png": "[encoded data removed]",
      "text/plain": [
       "<Figure size 432x288 with 1 Axes>"
      ]
     },
     "metadata": {
      "needs_background": "light"
     },
     "output_type": "display_data"
    }
   ],
   "source": [
    "#creating AUC/ROC Curve for knn model using sklearn\n",
    "metrics.plot_roc_curve(knn, x_test, y_test)\n",
    "plt.show()"
   ]
  },
  {
   "cell_type": "code",
   "execution_count": 73,
   "id": "53f5bda6",
   "metadata": {},
   "outputs": [
    {
     "name": "stderr",
     "output_type": "stream",
     "text": [
      "C:\\Users\\mithu\\AppData\\Roaming\\Python\\Python39\\site-packages\\sklearn\\utils\\deprecation.py:87: FutureWarning: Function plot_roc_curve is deprecated; Function :func:`plot_roc_curve` is deprecated in 1.0 and will be removed in 1.2. Use one of the class methods: :meth:`sklearn.metrics.RocCurveDisplay.from_predictions` or :meth:`sklearn.metrics.RocCurveDisplay.from_estimator`.\n",
      "  warnings.warn(msg, category=FutureWarning)\n"
     ]
    },
    {
     "data": {
      "image/png": "[encoded data removed]",
      "text/plain": [
       "<Figure size 432x288 with 1 Axes>"
      ]
     },
     "metadata": {
      "needs_background": "light"
     },
     "output_type": "display_data"
    }
   ],
   "source": [
    "#creating AUC/ROC Curve for knn model using sklearn\n",
    "metrics.plot_roc_curve(model, x_test, y_test)\n",
    "plt.show()"
   ]
  },
  {
   "cell_type": "code",
   "execution_count": 74,
   "id": "6ba439cc",
   "metadata": {},
   "outputs": [
    {
     "name": "stderr",
     "output_type": "stream",
     "text": [
      "C:\\Users\\mithu\\AppData\\Roaming\\Python\\Python39\\site-packages\\sklearn\\utils\\deprecation.py:87: FutureWarning: Function plot_roc_curve is deprecated; Function :func:`plot_roc_curve` is deprecated in 1.0 and will be removed in 1.2. Use one of the class methods: :meth:`sklearn.metrics.RocCurveDisplay.from_predictions` or :meth:`sklearn.metrics.RocCurveDisplay.from_estimator`.\n",
      "  warnings.warn(msg, category=FutureWarning)\n"
     ]
    },
    {
     "data": {
      "image/png": "[encoded data removed]",
      "text/plain": [
       "<Figure size 432x288 with 1 Axes>"
      ]
     },
     "metadata": {
      "needs_background": "light"
     },
     "output_type": "display_data"
    }
   ],
   "source": [
    "#creating AUC/ROC Curve for decision tree model using sklearn\n",
    "metrics.plot_roc_curve(C1DT, x_test, y_test)\n",
    "plt.show()"
   ]
  },
  {
   "cell_type": "markdown",
   "id": "f4e33143",
   "metadata": {},
   "source": [
    "#### Inference: The KNN model seems to have the highest Area Under Curve for TPR vs FPR"
   ]
  },
  {
   "cell_type": "markdown",
   "id": "aee3eadc",
   "metadata": {},
   "source": [
    "## Data Prediction for a single line of data"
   ]
  },
  {
   "cell_type": "code",
   "execution_count": 75,
   "id": "5af5a17e",
   "metadata": {},
   "outputs": [
    {
     "data": {
      "text/html": [
       "<div>\n",
       "<style scoped>\n",
       "    .dataframe tbody tr th:only-of-type {\n",
       "        vertical-align: middle;\n",
       "    }\n",
       "\n",
       "    .dataframe tbody tr th {\n",
       "        vertical-align: top;\n",
       "    }\n",
       "\n",
       "    .dataframe thead th {\n",
       "        text-align: right;\n",
       "    }\n",
       "</style>\n",
       "<table border=\"1\" class=\"dataframe\">\n",
       "  <thead>\n",
       "    <tr style=\"text-align: right;\">\n",
       "      <th></th>\n",
       "      <th>Pregnancies</th>\n",
       "      <th>Glucose</th>\n",
       "      <th>BloodPressure</th>\n",
       "      <th>SkinThickness</th>\n",
       "      <th>Insulin</th>\n",
       "      <th>BMI</th>\n",
       "      <th>DiabetesPedigreeFunction</th>\n",
       "      <th>Age</th>\n",
       "    </tr>\n",
       "  </thead>\n",
       "  <tbody>\n",
       "    <tr>\n",
       "      <th>970</th>\n",
       "      <td>-0.600712</td>\n",
       "      <td>-0.251319</td>\n",
       "      <td>-0.122031</td>\n",
       "      <td>0.581146</td>\n",
       "      <td>0.688585</td>\n",
       "      <td>0.200715</td>\n",
       "      <td>-0.813809</td>\n",
       "      <td>-0.076036</td>\n",
       "    </tr>\n",
       "  </tbody>\n",
       "</table>\n",
       "</div>"
      ],
      "text/plain": [
       "     Pregnancies   Glucose  BloodPressure  SkinThickness   Insulin       BMI  \\\n",
       "970    -0.600712 -0.251319      -0.122031       0.581146  0.688585  0.200715   \n",
       "\n",
       "     DiabetesPedigreeFunction       Age  \n",
       "970                 -0.813809 -0.076036  "
      ]
     },
     "execution_count": 75,
     "metadata": {},
     "output_type": "execute_result"
    }
   ],
   "source": [
    "x_train.iloc[[0]]"
   ]
  },
  {
   "cell_type": "code",
   "execution_count": 76,
   "id": "037890e4",
   "metadata": {},
   "outputs": [
    {
     "data": {
      "text/plain": [
       "array([1], dtype=int64)"
      ]
     },
     "execution_count": 76,
     "metadata": {},
     "output_type": "execute_result"
    }
   ],
   "source": [
    "model.predict(x_train.iloc[[0]])"
   ]
  },
  {
   "cell_type": "markdown",
   "id": "984fd6c2",
   "metadata": {},
   "source": [
    "## Pickling the model file for deployment"
   ]
  },
  {
   "cell_type": "code",
   "execution_count": 77,
   "id": "645fe403",
   "metadata": {},
   "outputs": [],
   "source": [
    "import pickle"
   ]
  },
  {
   "cell_type": "code",
   "execution_count": 78,
   "id": "31b754be",
   "metadata": {},
   "outputs": [],
   "source": [
    "pickle.dump(model,open('RFmodel.pkl','wb'))"
   ]
  },
  {
   "cell_type": "code",
   "execution_count": 79,
   "id": "69e8ff81",
   "metadata": {},
   "outputs": [],
   "source": [
    "pickled_RF_model=pickle.load(open('RFmodel.pkl','rb'))"
   ]
  },
  {
   "cell_type": "code",
   "execution_count": 80,
   "id": "83dec4e2",
   "metadata": {},
   "outputs": [
    {
     "data": {
      "text/plain": [
       "array([1], dtype=int64)"
      ]
     },
     "execution_count": 80,
     "metadata": {},
     "output_type": "execute_result"
    }
   ],
   "source": [
    "pickled_RF_model.predict(x_train.iloc[[0]])"
   ]
  },
  {
   "cell_type": "code",
   "execution_count": null,
   "id": "a133e58e",
   "metadata": {},
   "outputs": [],
   "source": []
  }
 ],
 "metadata": {
  "kernelspec": {
   "display_name": "Python 3 (ipykernel)",
   "language": "python",
   "name": "python3"
  },
  "language_info": {
   "codemirror_mode": {
    "name": "ipython",
    "version": 3
   },
   "file_extension": ".py",
   "mimetype": "text/x-python",
   "name": "python",
   "nbconvert_exporter": "python",
   "pygments_lexer": "ipython3",
   "version": "3.9.12"
  }
 },
 "nbformat": 4,
 "nbformat_minor": 5
}
